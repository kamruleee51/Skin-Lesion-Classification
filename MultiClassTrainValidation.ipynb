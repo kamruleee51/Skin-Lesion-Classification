{
 "cells": [
  {
   "cell_type": "markdown",
   "metadata": {},
   "source": [
    "# Import all the Lib. and Packages"
   ]
  },
  {
   "cell_type": "code",
   "execution_count": 1,
   "metadata": {},
   "outputs": [
    {
     "name": "stderr",
     "output_type": "stream",
     "text": [
      "/home/bokoo/anaconda3/lib/python3.6/site-packages/h5py/__init__.py:36: FutureWarning: Conversion of the second argument of issubdtype from `float` to `np.floating` is deprecated. In future, it will be treated as `np.float64 == np.dtype(float).type`.\n",
      "  from ._conv import register_converters as _register_converters\n",
      "Using TensorFlow backend.\n"
     ]
    },
    {
     "data": {
      "text/plain": [
       "'/device:GPU:0'"
      ]
     },
     "execution_count": 1,
     "metadata": {},
     "output_type": "execute_result"
    }
   ],
   "source": [
    "from keras.preprocessing.image import ImageDataGenerator\n",
    "from keras.preprocessing import image\n",
    "from keras.models import Sequential, load_model, Model\n",
    "from keras.layers import Activation, Dropout, Flatten, Dense, GlobalAveragePooling2D\n",
    "from keras.optimizers import SGD\n",
    "from keras.callbacks import EarlyStopping\n",
    "from keras.callbacks import ModelCheckpoint\n",
    "from keras.models import model_from_yaml\n",
    "import keras\n",
    "from keras.layers.normalization import BatchNormalization\n",
    "from keras.callbacks import TensorBoard\n",
    "from keras import backend as K\n",
    "from keras.applications.vgg16 import VGG16, preprocess_input\n",
    "from keras.applications.vgg16 import preprocess_input, decode_predictions\n",
    "from datetime import datetime\n",
    "from collections import Counter\n",
    "import os\n",
    "import numpy as np\n",
    "import pandas as pd\n",
    "import tensorflow as tf\n",
    "tf.test.gpu_device_name()"
   ]
  },
  {
   "cell_type": "code",
   "execution_count": 2,
   "metadata": {},
   "outputs": [],
   "source": [
    "# You need to have these three folders each with two subfolders for the two classes.\n",
    "PATH = os.getcwd()\n",
    "train_data_dir =PATH+ '/data/train'\n",
    "validation_data_dir = PATH+'/data/val'\n",
    "\n",
    "\n",
    "img_width = 1120  # Change image size for training here\n",
    "img_height = 1120 # Change image size for training here\n",
    "\n",
    "batch_size = 5 # i achieved good and fast results with this small minibatch size for training\n",
    "batch_size_val = 5 # if Tensorflow throws a memory error while validating at end of epoch, decrease validation batch size her"
   ]
  },
  {
   "cell_type": "code",
   "execution_count": 3,
   "metadata": {},
   "outputs": [
    {
     "name": "stdout",
     "output_type": "stream",
     "text": [
      "_________________________________________________________________\n",
      "Layer (type)                 Output Shape              Param #   \n",
      "=================================================================\n",
      "input_1 (InputLayer)         (None, 1120, 1120, 3)     0         \n",
      "_________________________________________________________________\n",
      "block1_conv1 (Conv2D)        (None, 1120, 1120, 64)    1792      \n",
      "_________________________________________________________________\n",
      "block1_conv2 (Conv2D)        (None, 1120, 1120, 64)    36928     \n",
      "_________________________________________________________________\n",
      "block1_pool (MaxPooling2D)   (None, 560, 560, 64)      0         \n",
      "_________________________________________________________________\n",
      "block2_conv1 (Conv2D)        (None, 560, 560, 128)     73856     \n",
      "_________________________________________________________________\n",
      "block2_conv2 (Conv2D)        (None, 560, 560, 128)     147584    \n",
      "_________________________________________________________________\n",
      "block2_pool (MaxPooling2D)   (None, 280, 280, 128)     0         \n",
      "_________________________________________________________________\n",
      "block3_conv1 (Conv2D)        (None, 280, 280, 256)     295168    \n",
      "_________________________________________________________________\n",
      "block3_conv2 (Conv2D)        (None, 280, 280, 256)     590080    \n",
      "_________________________________________________________________\n",
      "block3_conv3 (Conv2D)        (None, 280, 280, 256)     590080    \n",
      "_________________________________________________________________\n",
      "block3_pool (MaxPooling2D)   (None, 140, 140, 256)     0         \n",
      "_________________________________________________________________\n",
      "block4_conv1 (Conv2D)        (None, 140, 140, 512)     1180160   \n",
      "_________________________________________________________________\n",
      "block4_conv2 (Conv2D)        (None, 140, 140, 512)     2359808   \n",
      "_________________________________________________________________\n",
      "block4_conv3 (Conv2D)        (None, 140, 140, 512)     2359808   \n",
      "_________________________________________________________________\n",
      "block4_pool (MaxPooling2D)   (None, 70, 70, 512)       0         \n",
      "_________________________________________________________________\n",
      "block5_conv1 (Conv2D)        (None, 70, 70, 512)       2359808   \n",
      "_________________________________________________________________\n",
      "block5_conv2 (Conv2D)        (None, 70, 70, 512)       2359808   \n",
      "_________________________________________________________________\n",
      "block5_conv3 (Conv2D)        (None, 70, 70, 512)       2359808   \n",
      "_________________________________________________________________\n",
      "global_average_pooling2d_1 ( (None, 512)               0         \n",
      "_________________________________________________________________\n",
      "dense_1 (Dense)              (None, 4096)              2101248   \n",
      "_________________________________________________________________\n",
      "batch_normalization_1 (Batch (None, 4096)              16384     \n",
      "_________________________________________________________________\n",
      "dropout_1 (Dropout)          (None, 4096)              0         \n",
      "_________________________________________________________________\n",
      "dense_2 (Dense)              (None, 1024)              4195328   \n",
      "_________________________________________________________________\n",
      "batch_normalization_2 (Batch (None, 1024)              4096      \n",
      "_________________________________________________________________\n",
      "dropout_2 (Dropout)          (None, 1024)              0         \n",
      "_________________________________________________________________\n",
      "dense_3 (Dense)              (None, 256)               262400    \n",
      "_________________________________________________________________\n",
      "batch_normalization_3 (Batch (None, 256)               1024      \n",
      "_________________________________________________________________\n",
      "dropout_3 (Dropout)          (None, 256)               0         \n",
      "_________________________________________________________________\n",
      "dense_4 (Dense)              (None, 3)                 771       \n",
      "=================================================================\n",
      "Total params: 21,295,939\n",
      "Trainable params: 6,570,499\n",
      "Non-trainable params: 14,725,440\n",
      "_________________________________________________________________\n",
      "0 input_1\n",
      "1 block1_conv1\n",
      "2 block1_conv2\n",
      "3 block1_pool\n",
      "4 block2_conv1\n",
      "5 block2_conv2\n",
      "6 block2_pool\n",
      "7 block3_conv1\n",
      "8 block3_conv2\n",
      "9 block3_conv3\n",
      "10 block3_pool\n",
      "11 block4_conv1\n",
      "12 block4_conv2\n",
      "13 block4_conv3\n",
      "14 block4_pool\n",
      "15 block5_conv1\n",
      "16 block5_conv2\n",
      "17 block5_conv3\n",
      "18 global_average_pooling2d_1\n",
      "19 dense_1\n",
      "20 batch_normalization_1\n",
      "21 dropout_1\n",
      "22 dense_2\n",
      "23 batch_normalization_2\n",
      "24 dropout_2\n",
      "25 dense_3\n",
      "26 batch_normalization_3\n",
      "27 dropout_3\n",
      "28 dense_4\n"
     ]
    }
   ],
   "source": [
    "# Create the model with the VGG16\n",
    "\n",
    "vgg16 = VGG16(weights='imagenet', include_top=False,input_shape=(1120, 1120, 3))\n",
    "\n",
    "x = vgg16.get_layer('block5_conv3').output\n",
    "x = GlobalAveragePooling2D()(x)\n",
    "x = Dense(4096, activation='relu')(x)\n",
    "x = BatchNormalization()(x)\n",
    "x = Dropout(0.5)(x)\n",
    "x = Dense(1024, activation='relu')(x)\n",
    "x = BatchNormalization()(x)\n",
    "x = Dropout(0.5)(x)\n",
    "x = Dense(256, activation='relu')(x)\n",
    "x = BatchNormalization()(x)\n",
    "x = Dropout(0.5)(x)\n",
    "x = Dense(3, activation='softmax')(x)\n",
    "modelFinal = Model(inputs=vgg16.input, outputs=x)\n",
    "\n",
    "# for layer in modelFinal.layers[:12]:\n",
    "#     layer.trainable = False\n",
    "# for layer in modelFinal.layers[12:]:\n",
    "#     layer.trainable = True\n",
    "\n",
    "for layer in vgg16.layers:\n",
    "    layer.trainable = False\n",
    "\n",
    "modelFinal.summary()\n",
    "\n",
    "opt=keras.optimizers.SGD(lr=0.01, momentum=0.9, decay=0.000001, nesterov=False)\n",
    "\n",
    "modelFinal.compile(optimizer=opt, loss='categorical_crossentropy', metrics=['accuracy'])\n",
    "\n",
    "\n",
    "\n",
    "for i, layer in enumerate(modelFinal.layers):\n",
    "   print(i, layer.name)\n"
   ]
  },
  {
   "cell_type": "code",
   "execution_count": 4,
   "metadata": {},
   "outputs": [
    {
     "name": "stdout",
     "output_type": "stream",
     "text": [
      "Found 2000 images belonging to 3 classes.\n",
      "Found 150 images belonging to 3 classes.\n"
     ]
    }
   ],
   "source": [
    "\n",
    "# set data augmentation parameters here\n",
    "datagen = ImageDataGenerator(\n",
    "    preprocessing_function=preprocess_input,\n",
    "    rotation_range=70,\n",
    "    width_shift_range=.3,\n",
    "    height_shift_range=.1,\n",
    "    shear_range=0.2,\n",
    "    zoom_range=0.2,\n",
    "    horizontal_flip=True,\n",
    "    vertical_flip=False,\n",
    "    fill_mode=\"nearest\")\n",
    "\n",
    "# normalization neccessary for correct image input to VGG16\n",
    "# datagen.mean=np.array([103.939, 116.779, 123.68],dtype=np.float32).reshape(1,1,3)\n",
    "\n",
    "# no data augmentation for validation and test set\n",
    "validgen = ImageDataGenerator(preprocessing_function=preprocess_input)\n",
    "\n",
    "# validgen.mean=np.array([103.939, 116.779, 123.68],dtype=np.float32).reshape(1,1,3)\n",
    "\n",
    "train_gen = datagen.flow_from_directory(\n",
    "        train_data_dir,\n",
    "        target_size=(img_height, img_width),\n",
    "        batch_size=batch_size,\n",
    "        class_mode=\"categorical\",\n",
    "        shuffle=True, \n",
    "        #save_to_dir=\"_augmented_images/\", \n",
    "        #save_prefix=\"aug_\"\n",
    "        )\n",
    "\n",
    "val_gen = validgen.flow_from_directory(\n",
    "        validation_data_dir,\n",
    "        target_size=(img_height, img_width),\n",
    "        batch_size=batch_size_val,\n",
    "        class_mode=\"categorical\",\n",
    "        shuffle=True)"
   ]
  },
  {
   "cell_type": "code",
   "execution_count": 5,
   "metadata": {},
   "outputs": [
    {
     "name": "stdout",
     "output_type": "stream",
     "text": [
      "{0: 1.0, 1: 5.4, 2: 3.67}\n",
      "{'00_nev': 0, '01_seb': 1, '03_Mel': 2}\n"
     ]
    }
   ],
   "source": [
    "def get_class_weights(y):\n",
    "    counter = Counter(y)\n",
    "    majority = max(counter.values())\n",
    "    return  {cls: round(float(majority)/float(count), 2) for cls, count in counter.items()}\n",
    "\n",
    "class_weights = get_class_weights(train_gen.classes)\n",
    "print(class_weights)\n",
    "print(train_gen.class_indices)\n"
   ]
  },
  {
   "cell_type": "code",
   "execution_count": null,
   "metadata": {},
   "outputs": [
    {
     "name": "stdout",
     "output_type": "stream",
     "text": [
      "Epoch 1/8\n",
      "400/400 [==============================] - 629s 2s/step - loss: 17.9799 - acc: 0.4225 - val_loss: 8.0538 - val_acc: 0.4600\n",
      "\n",
      "Epoch 00001: val_acc improved from -inf to 0.46000, saving model to VGG19Inter.hdf5\n",
      "Epoch 2/8\n",
      "400/400 [==============================] - 598s 1s/step - loss: 18.7553 - acc: 0.4145 - val_loss: 11.2902 - val_acc: 0.2867\n",
      "\n",
      "Epoch 00002: val_acc did not improve from 0.46000\n",
      "Epoch 3/8\n",
      "250/400 [=================>............] - ETA: 3:32 - loss: 17.1243 - acc: 0.4664"
     ]
    }
   ],
   "source": [
    "epochs=8\n",
    "train_samples = len(train_gen.filenames)\n",
    "validation_samples = len(val_gen.filenames)\n",
    "\n",
    "# I stopped training automagically with EarlyStopping after 3 consecutive epochs without improvement\n",
    "early_stopping = EarlyStopping(monitor='val_loss', patience=5, verbose=1, mode='auto')\n",
    "\n",
    "Intermediate_model='VGG19Inter'\n",
    "Intermediate_SaveweightName= Intermediate_model+'.hdf5'\n",
    "Intermediate_SaveModelName=Intermediate_model+'.yaml'\n",
    "\n",
    "checkpoint_Intermediate = ModelCheckpoint(Intermediate_SaveweightName, monitor='val_acc', verbose=1, save_best_only=True, mode='max')\n",
    "\n",
    "model_yaml = modelFinal.to_yaml()\n",
    "with open(Intermediate_SaveModelName, \"w\") as yaml_file:\n",
    "    yaml_file.write(model_yaml)\n",
    "    \n",
    "modelFinal.fit_generator(train_gen, epochs=epochs, \n",
    "                          steps_per_epoch=int(train_samples/batch_size), \n",
    "                          validation_data=val_gen, \n",
    "                          validation_steps=int(validation_samples/batch_size_val),class_weight=class_weights,\n",
    "                          verbose=1, callbacks=[early_stopping,checkpoint_Intermediate])"
   ]
  },
  {
   "cell_type": "code",
   "execution_count": null,
   "metadata": {},
   "outputs": [],
   "source": []
  }
 ],
 "metadata": {
  "kernelspec": {
   "display_name": "Python 3",
   "language": "python",
   "name": "python3"
  },
  "language_info": {
   "codemirror_mode": {
    "name": "ipython",
    "version": 3
   },
   "file_extension": ".py",
   "mimetype": "text/x-python",
   "name": "python",
   "nbconvert_exporter": "python",
   "pygments_lexer": "ipython3",
   "version": "3.6.5"
  }
 },
 "nbformat": 4,
 "nbformat_minor": 2
}
